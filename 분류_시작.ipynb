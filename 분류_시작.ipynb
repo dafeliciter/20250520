{
  "nbformat": 4,
  "nbformat_minor": 0,
  "metadata": {
    "colab": {
      "provenance": []
    },
    "kernelspec": {
      "name": "python3",
      "display_name": "Python 3"
    },
    "language_info": {
      "name": "python"
    }
  },
  "cells": [
    {
      "cell_type": "code",
      "execution_count": 2,
      "metadata": {
        "colab": {
          "base_uri": "https://localhost:8080/"
        },
        "id": "jyQq9ARPa-9Q",
        "outputId": "37eb2650-b2e1-4e61-91ff-4de6fc85c66d"
      },
      "outputs": [
        {
          "output_type": "stream",
          "name": "stdout",
          "text": [
            "Collecting youtube-comment-downloader\n",
            "  Downloading youtube_comment_downloader-0.1.76-py3-none-any.whl.metadata (2.9 kB)\n",
            "Collecting dateparser (from youtube-comment-downloader)\n",
            "  Downloading dateparser-1.2.1-py3-none-any.whl.metadata (29 kB)\n",
            "Requirement already satisfied: requests in /usr/local/lib/python3.11/dist-packages (from youtube-comment-downloader) (2.32.3)\n",
            "Requirement already satisfied: python-dateutil>=2.7.0 in /usr/local/lib/python3.11/dist-packages (from dateparser->youtube-comment-downloader) (2.9.0.post0)\n",
            "Requirement already satisfied: pytz>=2024.2 in /usr/local/lib/python3.11/dist-packages (from dateparser->youtube-comment-downloader) (2025.2)\n",
            "Requirement already satisfied: regex!=2019.02.19,!=2021.8.27,>=2015.06.24 in /usr/local/lib/python3.11/dist-packages (from dateparser->youtube-comment-downloader) (2024.11.6)\n",
            "Requirement already satisfied: tzlocal>=0.2 in /usr/local/lib/python3.11/dist-packages (from dateparser->youtube-comment-downloader) (5.3.1)\n",
            "Requirement already satisfied: charset-normalizer<4,>=2 in /usr/local/lib/python3.11/dist-packages (from requests->youtube-comment-downloader) (3.4.2)\n",
            "Requirement already satisfied: idna<4,>=2.5 in /usr/local/lib/python3.11/dist-packages (from requests->youtube-comment-downloader) (3.10)\n",
            "Requirement already satisfied: urllib3<3,>=1.21.1 in /usr/local/lib/python3.11/dist-packages (from requests->youtube-comment-downloader) (2.4.0)\n",
            "Requirement already satisfied: certifi>=2017.4.17 in /usr/local/lib/python3.11/dist-packages (from requests->youtube-comment-downloader) (2025.4.26)\n",
            "Requirement already satisfied: six>=1.5 in /usr/local/lib/python3.11/dist-packages (from python-dateutil>=2.7.0->dateparser->youtube-comment-downloader) (1.17.0)\n",
            "Downloading youtube_comment_downloader-0.1.76-py3-none-any.whl (8.2 kB)\n",
            "Downloading dateparser-1.2.1-py3-none-any.whl (295 kB)\n",
            "\u001b[2K   \u001b[90m━━━━━━━━━━━━━━━━━━━━━━━━━━━━━━━━━━━━━━━━\u001b[0m \u001b[32m295.7/295.7 kB\u001b[0m \u001b[31m7.9 MB/s\u001b[0m eta \u001b[36m0:00:00\u001b[0m\n",
            "\u001b[?25hInstalling collected packages: dateparser, youtube-comment-downloader\n",
            "Successfully installed dateparser-1.2.1 youtube-comment-downloader-0.1.76\n"
          ]
        }
      ],
      "source": [
        "!pip install youtube-comment-downloader"
      ]
    },
    {
      "cell_type": "code",
      "source": [
        "import os\n",
        "import json\n",
        "import pandas as pd\n",
        "\n",
        "# 유튜브 URL 입력\n",
        "url = input(\"유튜브 영상 링크를 입력하세요: \").strip()\n",
        "\n",
        "# JSON 파일 이름\n",
        "json_file = 'YoutubeComments.json'\n",
        "\n",
        "# CSV 파일 이름\n",
        "csv_file = 'YoutubeComments.csv'\n",
        "\n",
        "# youtube-comment-downloader 명령어 실행\n",
        "os.system(f'youtube-comment-downloader --url \"{url}\" --output {json_file}')\n",
        "\n",
        "# JSON 파일 읽기\n",
        "with open(json_file, 'r', encoding='utf-8') as f:\n",
        "    json_data = [json.loads(line) for line in f]\n",
        "\n",
        "# JSON 데이터를 DataFrame으로 변환\n",
        "df = pd.DataFrame(json_data)\n",
        "\n",
        "# CSV 파일로 저장\n",
        "df.to_csv(csv_file, index=False, encoding='utf-8-sig')  # 한글 깨짐 방지\n",
        "\n",
        "# JSON 파일 삭제\n",
        "os.remove(json_file)\n",
        "\n",
        "print(f\"\\n댓글이 {csv_file} 파일로 저장되었습니다.\")\n"
      ],
      "metadata": {
        "colab": {
          "base_uri": "https://localhost:8080/"
        },
        "id": "D3X-JFULbSfH",
        "outputId": "bf7e153f-d3cb-436a-a7c8-764d9524e039"
      },
      "execution_count": 12,
      "outputs": [
        {
          "output_type": "stream",
          "name": "stdout",
          "text": [
            "유튜브 영상 링크를 입력하세요: https://youtu.be/Oz-r4OvoE3s?list=PLZdTWwpnekj1NA7KeRzSinz08HYS6NzDr\n",
            "\n",
            "댓글이 YoutubeComments.csv 파일로 저장되었습니다.\n"
          ]
        }
      ]
    },
    {
      "cell_type": "code",
      "source": [
        "!pip install langid"
      ],
      "metadata": {
        "colab": {
          "base_uri": "https://localhost:8080/"
        },
        "id": "86Vx64rBbfoH",
        "outputId": "f89b416b-d6b9-43a4-c436-082d73374c06"
      },
      "execution_count": 2,
      "outputs": [
        {
          "output_type": "stream",
          "name": "stdout",
          "text": [
            "Collecting langid\n",
            "  Downloading langid-1.1.6.tar.gz (1.9 MB)\n",
            "\u001b[2K     \u001b[90m━━━━━━━━━━━━━━━━━━━━━━━━━━━━━━━━━━━━━━━━\u001b[0m \u001b[32m1.9/1.9 MB\u001b[0m \u001b[31m19.4 MB/s\u001b[0m eta \u001b[36m0:00:00\u001b[0m\n",
            "\u001b[?25h  Preparing metadata (setup.py) ... \u001b[?25l\u001b[?25hdone\n",
            "Requirement already satisfied: numpy in /usr/local/lib/python3.11/dist-packages (from langid) (2.0.2)\n",
            "Building wheels for collected packages: langid\n",
            "  Building wheel for langid (setup.py) ... \u001b[?25l\u001b[?25hdone\n",
            "  Created wheel for langid: filename=langid-1.1.6-py3-none-any.whl size=1941171 sha256=e13e5316c844102b9add501875ed0296a7f1412c8689187635dbe8f09991d00d\n",
            "  Stored in directory: /root/.cache/pip/wheels/32/6a/b6/b7eb43a6ad55b139c15c5daa29f3707659cfa6944d3c696f5b\n",
            "Successfully built langid\n",
            "Installing collected packages: langid\n",
            "Successfully installed langid-1.1.6\n"
          ]
        }
      ]
    },
    {
      "cell_type": "code",
      "source": [
        "import pandas as pd\n",
        "import langid\n",
        "import re\n",
        "\n",
        "# 파일 경로\n",
        "file_path = 'YoutubeComments.csv'  # 코랩에 올린 파일명\n",
        "\n",
        "# 댓글 불러오기\n",
        "df = pd.read_csv(file_path)\n",
        "\n",
        "# 1. 초성/은어 감지 함수\n",
        "def is_korean_internet_slang(text):\n",
        "    if pd.isna(text):\n",
        "        return False\n",
        "    text = str(text).strip()\n",
        "    return (\n",
        "        bool(re.fullmatch(r'[ㄱ-ㅎㅏ-ㅣㅜㅠㅋㅎ\\s]+', text)) or\n",
        "        'ㄹㅇ' in text or 'ㅇㅈ' in text or 'ㅅㅂ' in text or 'ㅋㅋㅋ' in text or 'ㄷㄷ' in text\n",
        "    )\n",
        "\n",
        "# 2. 전처리 함수 (특수문자 제거)\n",
        "def clean_text(text):\n",
        "    if pd.isna(text):\n",
        "        return ''\n",
        "    return re.sub(r'[^\\w\\sㄱ-힣]', '', str(text))\n",
        "\n",
        "# 3. 최종 언어 감지 함수\n",
        "def detect_langid_custom(text):\n",
        "    try:\n",
        "        text = str(text).strip()\n",
        "        if len(text) < 2:\n",
        "            return 'unknown'\n",
        "        if is_korean_internet_slang(text):\n",
        "            return 'ko'\n",
        "        cleaned = clean_text(text)\n",
        "        lang, _ = langid.classify(cleaned)\n",
        "        return lang\n",
        "    except:\n",
        "        return 'unknown'\n",
        "\n",
        "# 4. 언어 분류 실행\n",
        "df['language'] = df['text'].apply(detect_langid_custom)\n",
        "\n",
        "# 5. 언어별 분포 출력\n",
        "print(df['language'].value_counts())\n",
        "\n",
        "# 6. 결과 저장\n",
        "df.to_csv('YoutubeComments_with_langid.csv', index=False, encoding='utf-8-sig')\n"
      ],
      "metadata": {
        "colab": {
          "base_uri": "https://localhost:8080/"
        },
        "id": "0WlcETwmepBS",
        "outputId": "fc5e0a69-8757-4a5b-c246-69d3997c8794"
      },
      "execution_count": 47,
      "outputs": [
        {
          "output_type": "stream",
          "name": "stdout",
          "text": [
            "language\n",
            "en         385\n",
            "ko         301\n",
            "fr           9\n",
            "es           9\n",
            "ja           6\n",
            "de           6\n",
            "unknown      3\n",
            "ms           3\n",
            "pl           2\n",
            "nl           2\n",
            "zh           2\n",
            "ur           2\n",
            "la           2\n",
            "ru           2\n",
            "ro           1\n",
            "kk           1\n",
            "id           1\n",
            "ca           1\n",
            "pt           1\n",
            "fi           1\n",
            "sl           1\n",
            "da           1\n",
            "xh           1\n",
            "et           1\n",
            "lt           1\n",
            "sv           1\n",
            "Name: count, dtype: int64\n"
          ]
        }
      ]
    }
  ]
}